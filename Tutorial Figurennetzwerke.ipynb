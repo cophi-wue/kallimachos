{
 "cells": [
  {
   "cell_type": "markdown",
   "metadata": {},
   "source": [
    "# Kallimachos: Tutorial zur Erstellung von Figurennetzwerken\n",
    "\n",
    "Im Rahmen des Projekts Kallimachos wurde eine Preprocessing-Pipeline entwickelt, die speziell auf deutschsprachige Romane angepasst ist. Insbesondere enthält sie Komponenten zur Erkennung von Figurenreferenzen und Koreferenzauflösung, die im Rahmen von Kallimachos entwickelt wurden und auf die Domäne literarischer Texte angepasst sind. \n",
    "\n",
    "Das Ziel dieses Tutorials ist es, anhand eines realistischen Anwendungsbeispiels darzustellen, wie mit dem Output der Kallimachos-Preprocessing-Pipeline in Python weitergearbeitet werden kann. Als Beispiel wurde dabei die Erstellung und Visualisierung von Figurennetzwerken aus Romanen gewählt.\n",
    "\n",
    "\n",
    "## Voraussetzungen\n",
    "Dieses Tutorial ist für Python 3 konzipiert. Grundlegende Python-Kenntnisse werden vorausgesetzt. Einen interaktiven, kostenlosen Kurs zum Erlernen von Python findet man beispielsweise bei [Codecademy](https://www.codecademy.com/learn/python). \n",
    "\n",
    "Außerdem werden die folgenden Python-Packages benötigt:\n",
    "* [Pandas](http://pandas.pydata.org/)\n",
    "* [NetworkX](https://networkx.github.io/)\n",
    "* [Matplotlib](http://matplotlib.org/)\n",
    "* [Ipywidgets](https://ipywidgets.readthedocs.io/en/latest/)\n",
    "\n",
    "Die Installation von Python-Packages ist am einfachsten mit Pip möglich ([Userguide](https://pip.pypa.io/en/stable/user_guide/)). Unter Windows kann es bei Pandas zu Compiler-Problemen kommen. Auf der Webseite von Pandas finden sich jedoch auch Windows-Binaries für die Installation."
   ]
  },
  {
   "cell_type": "markdown",
   "metadata": {},
   "source": [
    "## Output der Kallimachos-Preprocessing-Pipeline\n",
    "Die Kallimachos-Preprocessing-Pipeline kann über eine Konfigurationsdatei angepasst werden. Für das vorliegende Tutorial werden die Einteilung des Texts in Absätze, die Erkennung der Figurenreferenzen (NER) und die Koreferenzauflösung benötigt. Diese müssen also in der Konfigurationsdatei aktiviert sein. Eine ausführliche Beschreibung, sowie die Pipeline als .jar zum Download, befinden sich [hier](https://gitlab2.informatik.uni-wuerzburg.de/kallimachos/KallimachosEngines).\n",
    "\n",
    "Neben XMI kann die Pipeline ein tabellarisches Format liefern, das sehr stark dem [Output-Format](http://webdoc.sub.gwdg.de/pub/mon/dariah-de/dwp-2016-20.pdf) des [DARIAH-DKPro-Wrappers](http://dariah-de.github.io/DARIAH-DKPro-Wrapper/) nachempfunden ist. In diesem Format steht jedes Token des Texts in einer eigenen Zeile. Mehrere Spalten enthalten Informationen zu diesem Token, wie beispielsweise POS-Tags, NE-Tags oder Coreference-IDs. Die Spalten *SectionId*, *ParagraphId* und *SentenceId* geben über eine numerische Zählung an, in welchem Kapitel, Absatz und Satz sich das Token befindet. Aufgrund seines tabellarischen Aufbaus kann das Format gut mit Excel oder ähnlichen Programmen angezeigt werden. Zur Verarbeitung in Python bieten sich Pandas-Dataframes an, da sie die Datenstruktur gut abbilden können und viele Funktionen, beispielsweise zum Import und Export, bieten.\n"
   ]
  },
  {
   "cell_type": "code",
   "execution_count": 2,
   "metadata": {
    "collapsed": false
   },
   "outputs": [
    {
     "data": {
      "text/html": [
       "<div>\n",
       "<table border=\"1\" class=\"dataframe\">\n",
       "  <thead>\n",
       "    <tr style=\"text-align: right;\">\n",
       "      <th></th>\n",
       "      <th>SectionId</th>\n",
       "      <th>ParagraphId</th>\n",
       "      <th>SentenceId</th>\n",
       "      <th>TokenId</th>\n",
       "      <th>Begin</th>\n",
       "      <th>End</th>\n",
       "      <th>Token</th>\n",
       "      <th>Lemma</th>\n",
       "      <th>CPOS</th>\n",
       "      <th>POS</th>\n",
       "      <th>Morphology</th>\n",
       "      <th>DependencyHead</th>\n",
       "      <th>DependencyRelation</th>\n",
       "      <th>NamedEntity</th>\n",
       "      <th>CorefId</th>\n",
       "    </tr>\n",
       "  </thead>\n",
       "  <tbody>\n",
       "    <tr>\n",
       "      <th>0</th>\n",
       "      <td>null</td>\n",
       "      <td>4</td>\n",
       "      <td>0</td>\n",
       "      <td>0</td>\n",
       "      <td>8</td>\n",
       "      <td>14</td>\n",
       "      <td>Johann</td>\n",
       "      <td>Johann</td>\n",
       "      <td>N</td>\n",
       "      <td>NE</td>\n",
       "      <td>masc|sg|</td>\n",
       "      <td>--</td>\n",
       "      <td>--</td>\n",
       "      <td>B-PER_CORE</td>\n",
       "      <td>1</td>\n",
       "    </tr>\n",
       "    <tr>\n",
       "      <th>1</th>\n",
       "      <td>null</td>\n",
       "      <td>4</td>\n",
       "      <td>0</td>\n",
       "      <td>1</td>\n",
       "      <td>15</td>\n",
       "      <td>23</td>\n",
       "      <td>Wolfgang</td>\n",
       "      <td>Wolfgang</td>\n",
       "      <td>N</td>\n",
       "      <td>NE</td>\n",
       "      <td>masc|sg|</td>\n",
       "      <td>--</td>\n",
       "      <td>--</td>\n",
       "      <td>I-PER_CORE</td>\n",
       "      <td>1</td>\n",
       "    </tr>\n",
       "    <tr>\n",
       "      <th>2</th>\n",
       "      <td>null</td>\n",
       "      <td>4</td>\n",
       "      <td>0</td>\n",
       "      <td>2</td>\n",
       "      <td>24</td>\n",
       "      <td>30</td>\n",
       "      <td>Goethe</td>\n",
       "      <td>Goethe</td>\n",
       "      <td>N</td>\n",
       "      <td>NE</td>\n",
       "      <td>masc|sg|</td>\n",
       "      <td>--</td>\n",
       "      <td>--</td>\n",
       "      <td>I-PER_CORE</td>\n",
       "      <td>1</td>\n",
       "    </tr>\n",
       "    <tr>\n",
       "      <th>3</th>\n",
       "      <td>null</td>\n",
       "      <td>5</td>\n",
       "      <td>0</td>\n",
       "      <td>3</td>\n",
       "      <td>32</td>\n",
       "      <td>35</td>\n",
       "      <td>Die</td>\n",
       "      <td>die</td>\n",
       "      <td>ART</td>\n",
       "      <td>ART</td>\n",
       "      <td>fem|pl|</td>\n",
       "      <td>--</td>\n",
       "      <td>--</td>\n",
       "      <td>I-PER_CORE</td>\n",
       "      <td>1</td>\n",
       "    </tr>\n",
       "    <tr>\n",
       "      <th>4</th>\n",
       "      <td>null</td>\n",
       "      <td>5</td>\n",
       "      <td>0</td>\n",
       "      <td>4</td>\n",
       "      <td>36</td>\n",
       "      <td>56</td>\n",
       "      <td>Wahlverwandtschaften</td>\n",
       "      <td>Wahlverwandtschaft</td>\n",
       "      <td>N</td>\n",
       "      <td>NN</td>\n",
       "      <td>fem|pl|</td>\n",
       "      <td>--</td>\n",
       "      <td>--</td>\n",
       "      <td>O</td>\n",
       "      <td>-</td>\n",
       "    </tr>\n",
       "    <tr>\n",
       "      <th>5</th>\n",
       "      <td>null</td>\n",
       "      <td>6</td>\n",
       "      <td>0</td>\n",
       "      <td>5</td>\n",
       "      <td>58</td>\n",
       "      <td>61</td>\n",
       "      <td>Ein</td>\n",
       "      <td>eine</td>\n",
       "      <td>ART</td>\n",
       "      <td>ART</td>\n",
       "      <td>masc|sg|</td>\n",
       "      <td>--</td>\n",
       "      <td>--</td>\n",
       "      <td>O</td>\n",
       "      <td>-</td>\n",
       "    </tr>\n",
       "    <tr>\n",
       "      <th>6</th>\n",
       "      <td>null</td>\n",
       "      <td>6</td>\n",
       "      <td>0</td>\n",
       "      <td>6</td>\n",
       "      <td>62</td>\n",
       "      <td>67</td>\n",
       "      <td>Roman</td>\n",
       "      <td>Roman</td>\n",
       "      <td>N</td>\n",
       "      <td>NN</td>\n",
       "      <td>masc|sg|</td>\n",
       "      <td>--</td>\n",
       "      <td>--</td>\n",
       "      <td>O</td>\n",
       "      <td>-</td>\n",
       "    </tr>\n",
       "    <tr>\n",
       "      <th>7</th>\n",
       "      <td>null</td>\n",
       "      <td>7</td>\n",
       "      <td>0</td>\n",
       "      <td>7</td>\n",
       "      <td>69</td>\n",
       "      <td>75</td>\n",
       "      <td>Erstes</td>\n",
       "      <td>erst</td>\n",
       "      <td>ADJA</td>\n",
       "      <td>ADJA</td>\n",
       "      <td>neut|sg|</td>\n",
       "      <td>--</td>\n",
       "      <td>--</td>\n",
       "      <td>O</td>\n",
       "      <td>-</td>\n",
       "    </tr>\n",
       "    <tr>\n",
       "      <th>8</th>\n",
       "      <td>null</td>\n",
       "      <td>7</td>\n",
       "      <td>0</td>\n",
       "      <td>8</td>\n",
       "      <td>76</td>\n",
       "      <td>83</td>\n",
       "      <td>Kapitel</td>\n",
       "      <td>Kapitel</td>\n",
       "      <td>N</td>\n",
       "      <td>NN</td>\n",
       "      <td>neut|sg|</td>\n",
       "      <td>--</td>\n",
       "      <td>--</td>\n",
       "      <td>O</td>\n",
       "      <td>-</td>\n",
       "    </tr>\n",
       "    <tr>\n",
       "      <th>9</th>\n",
       "      <td>null</td>\n",
       "      <td>8</td>\n",
       "      <td>0</td>\n",
       "      <td>9</td>\n",
       "      <td>85</td>\n",
       "      <td>91</td>\n",
       "      <td>Eduard</td>\n",
       "      <td>Eduard</td>\n",
       "      <td>N</td>\n",
       "      <td>NE</td>\n",
       "      <td>neut|sg|</td>\n",
       "      <td>--</td>\n",
       "      <td>--</td>\n",
       "      <td>B-PER_CORE</td>\n",
       "      <td>990</td>\n",
       "    </tr>\n",
       "  </tbody>\n",
       "</table>\n",
       "</div>"
      ],
      "text/plain": [
       "  SectionId ParagraphId  SentenceId  TokenId  Begin  End  \\\n",
       "0      null           4           0        0      8   14   \n",
       "1      null           4           0        1     15   23   \n",
       "2      null           4           0        2     24   30   \n",
       "3      null           5           0        3     32   35   \n",
       "4      null           5           0        4     36   56   \n",
       "5      null           6           0        5     58   61   \n",
       "6      null           6           0        6     62   67   \n",
       "7      null           7           0        7     69   75   \n",
       "8      null           7           0        8     76   83   \n",
       "9      null           8           0        9     85   91   \n",
       "\n",
       "                  Token               Lemma  CPOS   POS Morphology  \\\n",
       "0                Johann              Johann     N    NE   masc|sg|   \n",
       "1              Wolfgang            Wolfgang     N    NE   masc|sg|   \n",
       "2                Goethe              Goethe     N    NE   masc|sg|   \n",
       "3                   Die                 die   ART   ART    fem|pl|   \n",
       "4  Wahlverwandtschaften  Wahlverwandtschaft     N    NN    fem|pl|   \n",
       "5                   Ein                eine   ART   ART   masc|sg|   \n",
       "6                 Roman               Roman     N    NN   masc|sg|   \n",
       "7                Erstes                erst  ADJA  ADJA   neut|sg|   \n",
       "8               Kapitel             Kapitel     N    NN   neut|sg|   \n",
       "9                Eduard              Eduard     N    NE   neut|sg|   \n",
       "\n",
       "  DependencyHead DependencyRelation NamedEntity CorefId  \n",
       "0             --                 --  B-PER_CORE       1  \n",
       "1             --                 --  I-PER_CORE       1  \n",
       "2             --                 --  I-PER_CORE       1  \n",
       "3             --                 --  I-PER_CORE       1  \n",
       "4             --                 --           O       -  \n",
       "5             --                 --           O       -  \n",
       "6             --                 --           O       -  \n",
       "7             --                 --           O       -  \n",
       "8             --                 --           O       -  \n",
       "9             --                 --  B-PER_CORE     990  "
      ]
     },
     "execution_count": 2,
     "metadata": {},
     "output_type": "execute_result"
    }
   ],
   "source": [
    "import pandas as pd\n",
    "\n",
    "infile = \"Goethe,-Johann-Wolfgang_Die Wahlverwandtschaften.jtf\"\n",
    "#read jtf to dataframe\n",
    "df = pd.read_table(infile, encoding=\"cp1252\", index_col=False, dtype={'SectionId': str, 'ParagraphId' : str})\n",
    "#df.head anzeigen\n",
    "df.head(10)"
   ]
  },
  {
   "cell_type": "markdown",
   "metadata": {},
   "source": [
    "## Figurennetzwerke\n",
    "Wir modellieren ein Figurennetzwerk als mathematischen Graphen, der aus Entitäten, sog. Knoten, und Verbindungen zwischen diesen Entitäten, sog. Kanten, besteht. In einem Figurennetzwerk wird jede Figur als Knoten und ihre Interaktionen als Kanten repräsentiert. Die Kanten können außerdem gewichtet sein, also eine zusätzliche numerische Information tragen, die angibt, wie wichtig eine Kante ist. Eine gute Einführung in die Graphentheorie bietet das Kapitel \"Netzwerke\" in [Fotis Jannidis / Hubertus Kohle / Malte Rehbein (Hg.): Digital Humanities. Eine Einführung. Stuttgart: Metzler 2017, S. 147-161](http://link.springer.com/book/10.1007/978-3-476-05446-3).\n",
    "\n",
    "\n",
    "Zunächst benötigen wir also die Information, welche Figuren vorhanden sind - wir müssen also alle Figurenreferenzen im Text erkennen. Die NER-Komponente von [Jannidis et al. (2015)](https://opus.bibliothek.uni-wuerzburg.de/frontdoor/index/index/year/2017/docId/14333) liefert uns diese Daten, die in der Spalte \"NamedEntity\" im tabellarischen Format zu finden sind. Dabei wird unterschieden zwischen \"Core\", also tatsächlichen Namen, \"App\", also Appellativa wie Verwandtschafts- oder Berufsbezeichnungen und \"Pron\", also pronominalen Referenzen.\n",
    "\n",
    "Die Koreferenzauflösung versucht festzustellen, welche Referenzen sich auf die gleichen Figuren beziehen - alle zusammengehörigen Figurenreferenzen haben also die gleiche *CorefId* [(Krug et al., 2015)](http://www.aclweb.org/anthology/W15-0711).\n",
    "\n",
    "## ID-Dictionary erstellen\n",
    "Aus der Menge aller Referenzen zu einer CorefId wollen wir einen möglichst aussagekräftigen Anzeige-Namen ermitteln, der im Figurennetzwerk genutzt werden kann. Es bietet sich an, die häufigste Referenz auszuwählen. Pronomen werden dabei nur berücksichtigt, falls kein konkreter Name oder Appelativ zu einer Figur vorhanden ist.\n",
    "\n",
    "Manche Figurenreferenzen bestehen aus mehreren Wörtern, wie z.B. \"Frau von Briest\". Dies wird durch die NE-Tags \"B-PER\" und \"I-PER\" gekennzeichnet. Die einzelnen Tokens befinden sich jedoch in separaten Zeilen. Für den Anzeige-Namen wollen wir diese Tokens wieder zu dem kompletten Namen zusammenfügen.\n",
    "\n",
    "Es ist außerdem möglich, dass mehrere CorefIds den gleichen Anzeige-Namen zugeordnet bekommen. Dies passiert bei sehr generischen Ausdrücken wie \"Frau\" oder \"Herr\". Daher wird die CorefId an den ermittelten Anzeige-Namen angehängt, um solche Fälle auch später noch unterscheiden zu können.\n",
    "\n",
    "Die ermittelten Anzeige-Namen werden in einem Dictionary gespeichert, sodass sie jederzeit anhand der CorefId wieder abgerufen werden können."
   ]
  },
  {
   "cell_type": "code",
   "execution_count": 2,
   "metadata": {
    "collapsed": false
   },
   "outputs": [
    {
     "data": {
      "text/plain": [
       "'Eduard_783'"
      ]
     },
     "execution_count": 2,
     "metadata": {},
     "output_type": "execute_result"
    }
   ],
   "source": [
    "from collections import defaultdict\n",
    "\n",
    "# für jede CorefId alle zugehörigen Referenzen ermitteln und daraus Anzeige-Name auswählen\n",
    "def make_id_dict(df):\n",
    "    \"\"\"\n",
    "    Waehlt fuer jede Figur die haeufigste Mention im Coreference Cluster als Anzeigenamen aus.\n",
    "    \"\"\"\n",
    "    #Figurenreferenzen werden als Listen in Defaultdicts gesammelt\n",
    "    id_dict_long = defaultdict(list)\n",
    "    id_dict_pron = defaultdict(list)\n",
    "    for i, word, tag, id in zip(df.index, df['Token'], df['NamedEntity'], df['CorefId']):\n",
    "        #mehrteilige NEs zusammenfassen\n",
    "        if \"B-PER\" in tag and \"I-PER\" in df.ix[i+1, \"NamedEntity\"] or \"I-PER\" in tag and \"I-PER\" in df.ix[i+1, \"NamedEntity\"]:\n",
    "            continue\n",
    "        elif \"I-PER\" in tag and not \"I-PER\" in df.ix[i+1, \"NamedEntity\"]:\n",
    "            j = i\n",
    "            person = \"\"\n",
    "            while \"I-PER\" in df.ix[j, \"NamedEntity\"] and i > 0:\n",
    "                person = df.ix[j-1, \"Token\"] +\" \"+person\n",
    "                j -= 1\n",
    "            id_dict_long[id].append(person+word)\n",
    "        #Figurenreferenzen im defaultdict sammeln\n",
    "        else:\n",
    "            if tag == \"B-PER_APP\" or tag == \"B-PER_CORE\":\n",
    "                id_dict_long[id].append(word)\n",
    "            #pronominale Referenzen in eigenem defaultdict sammeln\n",
    "            elif tag == \"B-PER_PRON\":\n",
    "                id_dict_pron[id].append(word)\n",
    "                if id not in id_dict_long.keys():\n",
    "                    id_dict_long[id] = []\n",
    "    #Anzeige-Name auswählen: häufigste Referenz\n",
    "    id_dict = {}\n",
    "    for id, names in id_dict_long.items():\n",
    "        #falls es keine Core- oder App-Referenz gibt, häufigstes Pronomen verwenden\n",
    "        if not names:\n",
    "            names = id_dict_pron[id]\n",
    "        id_dict.update({id: max(set(names), key=names.count)+ \"_\"+id})\n",
    "    return id_dict\n",
    "\n",
    "id_dict = make_id_dict(df)\n",
    "id_dict['783']"
   ]
  },
  {
   "cell_type": "markdown",
   "metadata": {},
   "source": [
    "## Interaktionslisten erstellen\n",
    "Um ein Figurennetzwerk erstellen zu können, müssen wir festlegen, wann eine Interaktion zwischen zwei Figuren vorliegt, also wann eine Kante erstellt werden soll. Hierfür gibt es mehrere Ansätze. Zum Einen können die Kanten eines Figurennetzwerks auf Dialogstrukturen basieren, wobei Interaktionen dann vorliegen, wenn zwei oder mehrere Figuren in direkter Rede miteinander kommunizieren. Dieser Ansatz setzt allerdings voraus, dass Passagen direkter Rede und die jeweiligen Sprecher und ggf. Angesprochenen identifiziert werden können, wofür zusätzliche, aufwändigere Vorverarbeitungsschritte nötig sind. Eine zweite Möglichkeit ist, dann eine Interaktion anzunehmen, wenn zwei oder mehr Figuren in einem festgelegten Textabschnitt, beispielsweise einem Absatz, gleichzeitig vorkommen. Da die Erhebung der Interaktionsdaten bei dieser Vorgehensweise deutlich einfach ist und sich in Untersuchungen ([Coll Ardanuy und Sporleder 2014](http://aclweb.org/anthology/W/W14/W14-0904.pdf), [Jannidis et al. 2016](http://dh2016.adho.org/abstracts/297)) gezeigt hat, dass diese relative einfache Modellierung trotzdem gute Repräsentationen liefert, soll dieser Ansatz auch in diesem Tutorial verwendet werden.\n",
    "\n",
    "Wenn also mehr als zwei Figuren in einem Absatz enthalten sind, haben alle untereinander eine Interaktion. Dies lässt sich über die Funktion ```combinations()``` ermitteln, die aus einer Menge von Elementen alle möglichen Zweierkombinationen ermitteln kann.\n",
    "\n",
    "Als Kantengewicht kann gezählt werden, in wie vielen Absätzen dies der Fall ist. Hierzu lässt sich ein [```Counter()```](https://docs.python.org/3/library/collections.html#collections.Counter) verwenden, quasi ein Dictionary, das automatisch mitzählt, wie oft ein Element hinzugefügt wurde."
   ]
  },
  {
   "cell_type": "code",
   "execution_count": 3,
   "metadata": {
    "collapsed": false
   },
   "outputs": [
    {
     "data": {
      "text/plain": [
       "[(('Eduard_783', 'Ottilie_754'), 161),\n",
       " (('Charlotte_780', 'Eduard_783'), 152),\n",
       " (('Charlotte_780', 'Ottilie_754'), 151),\n",
       " (('Kind_750', 'Ottilie_754'), 52),\n",
       " (('Charlotte_780', 'Kind_750'), 42)]"
      ]
     },
     "execution_count": 3,
     "metadata": {},
     "output_type": "execute_result"
    }
   ],
   "source": [
    "from itertools import combinations\n",
    "from collections import Counter\n",
    "\n",
    "interactions = Counter()\n",
    "#Dataframe nach Absätzen gruppieren\n",
    "paragraphs = df.groupby(\"ParagraphId\")\n",
    "#für jeden Absatz die enthaltenen Figuren und die möglichen Zweierkombinationen ermitteln\n",
    "for para_i, paragraph in paragraphs:\n",
    "    #alle Figurenreferenzen ermitteln und Anzeige-Namen im Dictionary nachschlagen\n",
    "    coref_ids = [id_dict[id] for id in paragraph['CorefId'] if id != \"-\"]\n",
    "    if len(coref_ids) >= 2:\n",
    "        #alle möglichen Interaktionen im Absatz ermitteln und im Counter speichern\n",
    "        relations = [tuple(sorted(rel)) for rel in list(combinations(set(coref_ids), 2))]\n",
    "        interactions.update(relations)\n",
    "\n",
    "interactions.most_common(5)"
   ]
  },
  {
   "cell_type": "markdown",
   "metadata": {},
   "source": [
    "## Interaktionslisten speichern\n",
    "\n",
    "In dem Counter sind nun alle Interaktionen (also gemeinsames Vorkommen zweier Figuren in einem Absatz) und deren Häufigkeit gespeichert. Diese Informationen reichen aus, um ein Figurennetzwerk zu erstellen. Es kann nützlich sein, diese Interaktionsliste in einer txt-Datei zu speichern, sodass die Extraktion nicht öfter wiederholt werden muss. Außerdem können die Interaktionslisten auch in anderen Programmen, wie beispielsweise zur Visualisierung in [Gephi](https://gephi.org/), verwendet werden.\n",
    "\n",
    "Die Interaktionsliste besitzt drei Spalten: die ersten beiden enthalten die Figuren (Knoten), zwischen denen eine Kante vorliegt und die dritte Spalte das entsprechende Kantengewicht.\n"
   ]
  },
  {
   "cell_type": "code",
   "execution_count": 4,
   "metadata": {
    "collapsed": true
   },
   "outputs": [],
   "source": [
    "#Interaktionsliste in txt-Datei speichern\n",
    "with open(\"interactions.txt\", \"w\", encoding=\"utf-8\") as outfile:\n",
    "    for pair, weight in interactions.most_common():\n",
    "        outfile.write(pair[0] + \"\\t\" + pair[1] + \"\\t\" + str(weight) + \"\\n\")"
   ]
  },
  {
   "cell_type": "markdown",
   "metadata": {},
   "source": [
    "## Figurennetzwerke erstellen\n",
    "\n",
    "Zur Erstellung von Figurennetzwerken in Python wird das Package [NetworkX](https://networkx.github.io/) verwendet, das entsprechende Datenstrukturen für Graphen sowie deren Visualisierung und Analyse bereitstellt.\n",
    "\n",
    "Unsere Interaktionsliste kann direkt von NetworkX [eingelesen werden](http://networkx.readthedocs.io/en/stable/reference/generated/networkx.readwrite.edgelist.read_edgelist.html?highlight=read%20edgelist). In den ersten beiden Spalten stehen die beiden Knoten zu einer Kanten, während in der dritten Spalte eine weitere Eigenschaft, in unserem Fall das Kantengewicht, gelistet ist. Beim Einlesen muss daher mittels eines Dictionaries festgelegt werden, welche Information in dieser Spalte steht und welchen Datentyp diese hat. Es wären auch noch weitere Spalten für zusätzliche Eigenschaften möglich.\n",
    "\n",
    "Ein Roman kann sehr viele Figurenreferenzen enthalten, von denen viele auch nur sehr selten vorkommen. Dieser Effekt wird durch Fehler bei der automatischen Coreference Resolution noch verstärkt. Daher kann ein Figurennetzwerk ein paar Hundert Knoten enthalten, von denen der Großteil jedoch uninteressant ist. Im Hinblick auf Visualisierungen und Analysen ist es somit sinnvoll, das Netzwerk zu filtern, also auf wenige Knoten zu beschränken. Da auch ein menschlicher Betrachter erst in einer stark reduzierten Visualisierung eine Struktur erkennen kann, wird angenommen, dass die Filterung auch für die automatische Verarbeitung nützlich ist.\n",
    "\n",
    "\n",
    "Dabei sind natürlich mehrere Vorgehensweisen denkbar. Beispielsweise könnte man nur Kanten ab einem bestimmten Mindestgewicht oder eine bestimmte Anzahl von Kanten mit hohem Gewicht vom Anfang der Interaktionsliste berücksichtigen. In diesem Beispiel wurde das Netzwerk auf die x wichtigsten Knoten (Parameter ```node_filter```) beschränkt. Die wichtigsten Knoten wurden über den Knotengrad (node degree) ermittelt. Dieser Wert berechnet sich als die Summe der Kantengewichte aller Kanten, die an dem Knoten anliegen.\n",
    "Zusätzlich wurden x% der Kanten mit dem geringsten Gewicht (Parameter ```edge_filter```) herausgefiltert, da sonst fast immer alle Knoten untereinander verbunden sind. Diese beiden Grenzwerte für die Filterung können nur empirisch festgelegt werden.\n",
    "\n",
    "Isolierte Knoten, die nach der Anwendung beider Filter ohne anliegende Kanten übrigbleiben, werden entfernt."
   ]
  },
  {
   "cell_type": "code",
   "execution_count": 5,
   "metadata": {
    "collapsed": false
   },
   "outputs": [
    {
     "data": {
      "text/plain": [
       "<networkx.classes.graph.Graph at 0xa1545c0>"
      ]
     },
     "execution_count": 5,
     "metadata": {},
     "output_type": "execute_result"
    }
   ],
   "source": [
    "import networkx as nx\n",
    "from operator import itemgetter\n",
    "\n",
    "#Graph-Objekt mit NetworkX erstellen und filtern\n",
    "def make_graph(file, node_filter=10, edge_filter=0.3):\n",
    "    \"\"\"\n",
    "    Erstellt ein Netzwerk aus einer Interaktionsliste, mit Filtermoeglichkeiten.\n",
    "    Parameter\n",
    "    ---------\n",
    "    file : Datei mit Interaktionsliste\n",
    "    node_filter: Knotenfilter (max. Knoten im Netzwerk)\n",
    "    edge_filter: Prozentangabe zwischen 0 und 1\n",
    "\n",
    "    Returns\n",
    "    -------\n",
    "    graph : NetworkX Graph-Objekt\n",
    "    \"\"\"\n",
    "    graph = nx.read_edgelist(file, nodetype=str, delimiter=\"\\t\", data=(('weight', float),))\n",
    "    #node_filter: die x wichtigsten Knoten berücksichtigen, nach gewichtetem Knotengrad\n",
    "    if node_filter:\n",
    "        #Sortierung nach Alphabet und nach Grad, um gleiche Reihenfolge bei jedem Durchlauf sicherzustellen\n",
    "        degree = sorted(graph.degree(weight='weight').items())\n",
    "        degree = sorted(degree, key=itemgetter(1), reverse=True)\n",
    "        graph = graph.subgraph([n for n, d in degree[:node_filter]])\n",
    "    #edge_filter: unterste x% der Kanten (nach Gewicht) rausfiltern\n",
    "    if edge_filter:\n",
    "        #mehrfache Sortierung, um gleiche Reihenfolge sicherzustellen\n",
    "        edgelist = [(sorted((u,v)),k['weight']) for u,v,k in graph.edges(data=True)] #Knotenpaare nach Alphabet sortiert\n",
    "        edgelist = sorted(edgelist) #gesamte Liste nach Alphabet sortiert\n",
    "        sorted_edgelist = sorted(edgelist, key=itemgetter(1)) #nach Kantengewicht sortiert, aufsteigend!\n",
    "        sorted_edgelist = [(u,v,k) for [u,v],k in sorted_edgelist]\n",
    "        summe = 0.0\n",
    "        i= 0\n",
    "        for u,v,k in sorted_edgelist:\n",
    "            summe += k\n",
    "            if summe/graph.size(weight='weight') >= edge_filter:\n",
    "                break\n",
    "            else:\n",
    "                i+=1\n",
    "        graph.remove_edges_from(sorted_edgelist[:i])\n",
    "        #isolierte Knoten entfernen\n",
    "        graph.remove_nodes_from([n for n, d in graph.degree().items() if d == 0])\n",
    "    return graph\n",
    "\n",
    "#Graph aus Interaktionsliste erstellen\n",
    "graph = make_graph(\"interactions.txt\", 10, 0.3)\n",
    "graph"
   ]
  },
  {
   "cell_type": "markdown",
   "metadata": {},
   "source": [
    "## Netzwerk visualisieren\n",
    "\n",
    "Das erstellte Netzwerk kann nun auch visualisiert werden. NetworkX bietet hierfür Funktionen an, die den Graphen dann mithilfe von Matplotlib plotten.\n",
    "\n",
    "In der Visualisierung können Kantengewichte über die Dicke der Kanten dargestellt werden: je höher das Kantengewicht, desto dicker erscheint die Kante. Da eine direkte Verwendung des Kantengewichts jedoch zu extrem dicken Kanten führen würde, wird zunächst das relative Gewicht (im Bezug auf die Summe aller Kantengewichte im Graphen) berechnet und dann mit einem Faktor x multipliziert. Dieser Faktor muss empirisch gewählt werden, sodass eine brauchbare Visualisierung entsteht.\n",
    "\n",
    "Außerdem muss festgelegt werden, welcher Knoten wo auf der Zeichenfläche platziert wird. Dafür gibt es eine Reihe von [Layout-Algorithmen für Graphen](https://de.wikipedia.org/wiki/Graphzeichnen), von denen einige auch in NetworkX zur Verfügung stehen. Hier wird der [Fruchterman-Reingold-Algorithmus](https://networkx.github.io/documentation/networkx-1.10/reference/generated/networkx.drawing.layout.spring_layout.html#networkx.drawing.layout.spring_layout) verwendet, der anziehende und abstoßende Kräfte zwischen den Knoten annimmt und diese so platziert, dass diese Kräfte möglichst im Gleichgewicht sind und die Kanten möglichst gleich lang sind.\n",
    "\n",
    "Die interaktive Visualisierung bietet Schieberegler, mit denen der Knoten- und Kantenfilter, sowie der Faktor für die Kantendicke verändert werden können. Die Visualisierung des Netzwerks aktualisiert sich dann direkt, sodass sich die Auswirkungen der jeweiligen Einstellungen schön mitverfolgen lassen. Die Funktionen für interaktiven Output in Jupyter/iPython-Notebooks werden von dem Package [ipywidgets](https://ipywidgets.readthedocs.io/en/latest/) zur Verfügung gestellt.\n",
    "\n",
    "Bemerkung: Je mehr Knoten in das Netzwerk aufgenommen werden, desto länger dauert die Erstellung des Graphen und der Visualisierung. Hier ist dann ein Augenblick Geduld gefragt, bis die Visualisierung sich aktualisiert!"
   ]
  },
  {
   "cell_type": "code",
   "execution_count": 6,
   "metadata": {
    "collapsed": false
   },
   "outputs": [
    {
     "data": {
      "text/plain": [
       "<function __main__.interactive_visualisation>"
      ]
     },
     "execution_count": 6,
     "metadata": {},
     "output_type": "execute_result"
    },
    {
     "data": {
      "image/png": "[encoded data removed]",
      "text/plain": [
       "<matplotlib.figure.Figure at 0x4bc9a20>"
      ]
     },
     "metadata": {},
     "output_type": "display_data"
    }
   ],
   "source": [
    "%matplotlib inline\n",
    "import matplotlib.pyplot as plt\n",
    "from ipywidgets import interact, fixed\n",
    "\n",
    "def visualize_graph(graph, width_factor=40):\n",
    "    \"\"\"\n",
    "    Visualisiert das Netzwerk.\n",
    "    Parameter\n",
    "    ---------\n",
    "    graph : Graph-Objekt\n",
    "    \"\"\"\n",
    "    fig = plt.figure(figsize=(8,8))\n",
    "    #Kantendicke anhand des Kantengewichts berechnen\n",
    "    widths = [dic['weight']/graph.size(weight='weight')*width_factor for (p1, p2, dic) in graph.edges(data=True)]\n",
    "    #Layout-Algorithmus anwenden\n",
    "    pos = nx.spring_layout(graph, k=1.5)\n",
    "    #Netzwerk plotten und speichern\n",
    "    nx.draw_networkx(graph, pos, width = widths, font_size=13, alpha=0.5, edge_color=\"blue\")\n",
    "    plt.axis('off')\n",
    "    plt.savefig(\"network.png\", dpi=100)\n",
    "\n",
    "#visualize_graph(graph)\n",
    "    \n",
    "#Interaktive Visualisation mit ipywidgets\n",
    "def interactive_visualisation(file, node_filter=10, edge_filter=0.3, width_factor=40):\n",
    "    graph = make_graph(file, node_filter, edge_filter)\n",
    "    visualize_graph(graph, width_factor)\n",
    "\n",
    "interact(interactive_visualisation, file=fixed(\"interactions.txt\"), node_filter=(0,200), edge_filter=(0.0, 1.0), width_factor=(1,100,10))\n"
   ]
  },
  {
   "cell_type": "markdown",
   "metadata": {},
   "source": [
    "## Ausblick: Berechnung von Netzwerkmetriken\n",
    "\n",
    "\n",
    "Ausgehend von einem NetworkX-Graphobjekt können diverse Funktionen zur Berechnung von Netzwerkmetriken angewandt werden. Eine große Zahl solcher Algorithmen ist in NetworkX vorhanden. Mithilfe solcher Netzwerkmetriken können strukturelle Eigenschaften eines Netzwerks als Zahlenwerte ausgedrückt und analysiert werden.\n",
    "\n",
    "Als zwei einfache Beispiele werden hier die Berechnung der Gradzentralität, die bereits zur Filterung des Graphen verwendet wurde, sowie die Netzwerk-Dichte genannt. Es existiert eine Vielzahl weiterer Maße zur Netzwerkanalyse, wobei häufig mehrere in Kombination verwendet werden.\n",
    "\n",
    "Die Gradzentralität kann für jeden Knoten einzeln berechnet werden und gibt die Anzahl aller an dem Knoten anliegenden Kanten, als Bruchteil aller möglichen Kanten für diesen Knoten, an. Gibt es einen Knoten mit der Gradzentralität 1, während alle anderen Knoten einen geringeren Wert haben, so deutet das auf ein sternförmiges Netzwerk hin. Hat jeder Knoten den Wert 1, so ist das Netzwerk vollständig vernetzt.\n",
    "\n",
    "In diesem Beispiel sind also \"Charlotte\" und \"Ottilie\" die am stärksten vernetzten Knoten. Die Werte der Gradzentralität sind natürlich auch von der Netzwerkfilterung abhängig.\n",
    "\n",
    "Andere Maße, wie die Netzwerkdichte, beziehen sich auf ein Netzwerk als Ganzes. Die Dichte gibt das Verhältnis der Anzahl aller tatsächlich im Netzwerk realisierten Kanten zu der Anzahl aller theoretisch möglichen Kanten an. Folglich kann sich ein Wert zwischen 0 (Netzwerk ohne Kanten) und 1 (vollständig vernetzter Graph) ergeben."
   ]
  },
  {
   "cell_type": "code",
   "execution_count": 7,
   "metadata": {
    "collapsed": false
   },
   "outputs": [
    {
     "name": "stdout",
     "output_type": "stream",
     "text": [
      "{'Ottilie_754': 0.7142857142857142, 'Gesellschaft_27': 0.14285714285714285, 'Luciane_523': 0.14285714285714285, 'Kind_750': 0.42857142857142855, 'Architekt_567': 0.14285714285714285, 'Freund_712': 0.2857142857142857, 'Eduard_783': 0.5714285714285714, 'Charlotte_780': 0.7142857142857142}\n",
      "0.39285714285714285\n"
     ]
    }
   ],
   "source": [
    "degrees = nx.degree_centrality(graph)\n",
    "print(degrees)\n",
    "density = nx.density(graph)\n",
    "print(density)\n"
   ]
  }
 ],
 "metadata": {
  "kernelspec": {
   "display_name": "Python 3",
   "language": "python",
   "name": "python3"
  },
  "language_info": {
   "codemirror_mode": {
    "name": "ipython",
    "version": 3
   },
   "file_extension": ".py",
   "mimetype": "text/x-python",
   "name": "python",
   "nbconvert_exporter": "python",
   "pygments_lexer": "ipython3",
   "version": "3.4.3"
  }
 },
 "nbformat": 4,
 "nbformat_minor": 0
}
